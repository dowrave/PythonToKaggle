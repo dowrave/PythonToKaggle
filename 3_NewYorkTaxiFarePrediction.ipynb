{
  "nbformat": 4,
  "nbformat_minor": 0,
  "metadata": {
    "colab": {
      "name": "3_NewYorkTaxiFarePrediction.ipynb",
      "private_outputs": true,
      "provenance": [],
      "authorship_tag": "ABX9TyNuTRLYXfiQUCSCIG1Ji77P",
      "include_colab_link": true
    },
    "kernelspec": {
      "name": "python3",
      "display_name": "Python 3"
    },
    "language_info": {
      "name": "python"
    }
  },
  "cells": [
    {
      "cell_type": "markdown",
      "metadata": {
        "id": "view-in-github",
        "colab_type": "text"
      },
      "source": [
        "<a href=\"https://colab.research.google.com/github/dowrave/PythonToKaggle/blob/main/3_NewYorkTaxiFarePrediction.ipynb\" target=\"_parent\"><img src=\"https://colab.research.google.com/assets/colab-badge.svg\" alt=\"Open In Colab\"/></a>"
      ]
    },
    {
      "cell_type": "code",
      "execution_count": null,
      "metadata": {
        "id": "ZdjDGodXA77j"
      },
      "outputs": [],
      "source": [
        "from google.colab import files\n",
        "uploaded = files.upload()\n",
        "\n",
        "!mkdir -p ~/.kaggle/\n",
        "!mv kaggle.json ~/.kaggle/\n",
        "!chmod 600 ~/.kaggle/kaggle.json"
      ]
    },
    {
      "cell_type": "code",
      "source": [
        "!kaggle competitions download -c new-york-city-taxi-fare-prediction # 아니 ㄹㅇ 책이 검수가 덜 됨\n",
        "!unzip new-york-city-taxi-fare-prediction.zip"
      ],
      "metadata": {
        "id": "bjKCHtHYIIyb"
      },
      "execution_count": null,
      "outputs": []
    },
    {
      "cell_type": "code",
      "source": [
        "# 데이터 파일 크기 확인 함수\n",
        "import os\n",
        "def convert_bytes(file_path, unit = None):\n",
        "  size = os.path.getsize(file_path)\n",
        "  if unit == \"KB\":\n",
        "    return print(\"File size :\" , str(round(size/1024, 3)), \"KB\")\n",
        "  elif unit == \"MB\":\n",
        "    return print(\"File size :\" , str(round(size/1024**2, 3)), \"MB\")\n",
        "  elif unit == \"GB\":\n",
        "    return print(\"File size :\" , str(round(size/1024**3, 3)), \"GB\")\n",
        "  else:\n",
        "    return print(\"File size :\" , str(size/1024), \"Bytes\")\n",
        "\n",
        "  \n",
        "file_path = 'train.csv'\n",
        "convert_bytes(file_path)\n",
        "convert_bytes(file_path, 'GB')"
      ],
      "metadata": {
        "id": "Ynec7fQbIbP9"
      },
      "execution_count": null,
      "outputs": []
    },
    {
      "cell_type": "code",
      "source": [
        "import numpy as np\n",
        "import pandas as pd\n",
        "import seaborn as sns\n",
        "import matplotlib.pyplot as plt\n",
        "\n",
        "def skip_logic(index, skip_num):\n",
        "  if index % skip_num == 0:\n",
        "    return False\n",
        "  return True \n",
        "\n",
        "train = pd.read_csv('train.csv', skiprows = lambda x: skip_logic(x, 4), parse_dates = ['pickup_datetime'])\n",
        "print(train.shape)\n",
        "test = pd.read_csv('./test.csv')\n",
        "submission = pd.read_csv('./sample_submission.csv')"
      ],
      "metadata": {
        "id": "N5al0l2IIgJt"
      },
      "execution_count": null,
      "outputs": []
    },
    {
      "cell_type": "markdown",
      "source": [
        "## 지도 학습에서 가장 먼저 시각화 할 것은 종속 변수 Y이다\n",
        "- 수치 데이터라면 정규 분포를 이루는지 확인하는 것이 기초 통계의 여러 통계 모델을 적용할 때 매우 중요하기 때문.\n"
      ],
      "metadata": {
        "id": "Qg9qjxMHL9kR"
      }
    },
    {
      "cell_type": "code",
      "source": [
        "print(train.info, '-' * 30, test.info)"
      ],
      "metadata": {
        "id": "zTxXghOnKm7-"
      },
      "execution_count": null,
      "outputs": []
    },
    {
      "cell_type": "code",
      "source": [
        ""
      ],
      "metadata": {
        "id": "LGWR1-qYL8r5"
      },
      "execution_count": null,
      "outputs": []
    },
    {
      "cell_type": "code",
      "source": [
        ""
      ],
      "metadata": {
        "id": "jzwl5-x9L8t-"
      },
      "execution_count": null,
      "outputs": []
    },
    {
      "cell_type": "code",
      "source": [
        ""
      ],
      "metadata": {
        "id": "xJeyTiYoL8wG"
      },
      "execution_count": null,
      "outputs": []
    },
    {
      "cell_type": "code",
      "source": [
        ""
      ],
      "metadata": {
        "id": "oir2Elk6L8yt"
      },
      "execution_count": null,
      "outputs": []
    },
    {
      "cell_type": "code",
      "source": [
        ""
      ],
      "metadata": {
        "id": "msHrSTx7L81F"
      },
      "execution_count": null,
      "outputs": []
    },
    {
      "cell_type": "code",
      "source": [
        ""
      ],
      "metadata": {
        "id": "ualr96DOL83e"
      },
      "execution_count": null,
      "outputs": []
    }
  ]
}